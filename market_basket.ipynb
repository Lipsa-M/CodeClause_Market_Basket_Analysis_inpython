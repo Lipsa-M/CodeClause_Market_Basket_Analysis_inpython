{
 "cells": [
  {
   "cell_type": "code",
   "execution_count": 1,
   "id": "a298f35f-b5f8-445c-a1ed-89c6d543be70",
   "metadata": {},
   "outputs": [],
   "source": [
    "import pandas as pd\n",
    "import numpy as np\n",
    "import matplotlib.pyplot as plt\n",
    "import seaborn as sns"
   ]
  },
  {
   "cell_type": "code",
   "execution_count": 3,
   "id": "3846594e-c084-4ff1-96c4-fb7010a3e7ef",
   "metadata": {},
   "outputs": [],
   "source": [
    "df= pd.read_csv(\"Groceries_dataset.csv\")"
   ]
  },
  {
   "cell_type": "code",
   "execution_count": 4,
   "id": "2413d7d6-1bc5-4385-a2f4-b808c22568cb",
   "metadata": {},
   "outputs": [
    {
     "data": {
      "text/plain": [
       "(38765, 3)"
      ]
     },
     "execution_count": 4,
     "metadata": {},
     "output_type": "execute_result"
    }
   ],
   "source": [
    "df.shape"
   ]
  },
  {
   "cell_type": "code",
   "execution_count": 5,
   "id": "cd07da83-f17e-4b63-bb1b-acdb024cd2eb",
   "metadata": {},
   "outputs": [
    {
     "data": {
      "text/html": [
       "<div>\n",
       "<style scoped>\n",
       "    .dataframe tbody tr th:only-of-type {\n",
       "        vertical-align: middle;\n",
       "    }\n",
       "\n",
       "    .dataframe tbody tr th {\n",
       "        vertical-align: top;\n",
       "    }\n",
       "\n",
       "    .dataframe thead th {\n",
       "        text-align: right;\n",
       "    }\n",
       "</style>\n",
       "<table border=\"1\" class=\"dataframe\">\n",
       "  <thead>\n",
       "    <tr style=\"text-align: right;\">\n",
       "      <th></th>\n",
       "      <th>Member_number</th>\n",
       "    </tr>\n",
       "  </thead>\n",
       "  <tbody>\n",
       "    <tr>\n",
       "      <th>count</th>\n",
       "      <td>38765.000000</td>\n",
       "    </tr>\n",
       "    <tr>\n",
       "      <th>mean</th>\n",
       "      <td>3003.641868</td>\n",
       "    </tr>\n",
       "    <tr>\n",
       "      <th>std</th>\n",
       "      <td>1153.611031</td>\n",
       "    </tr>\n",
       "    <tr>\n",
       "      <th>min</th>\n",
       "      <td>1000.000000</td>\n",
       "    </tr>\n",
       "    <tr>\n",
       "      <th>25%</th>\n",
       "      <td>2002.000000</td>\n",
       "    </tr>\n",
       "    <tr>\n",
       "      <th>50%</th>\n",
       "      <td>3005.000000</td>\n",
       "    </tr>\n",
       "    <tr>\n",
       "      <th>75%</th>\n",
       "      <td>4007.000000</td>\n",
       "    </tr>\n",
       "    <tr>\n",
       "      <th>max</th>\n",
       "      <td>5000.000000</td>\n",
       "    </tr>\n",
       "  </tbody>\n",
       "</table>\n",
       "</div>"
      ],
      "text/plain": [
       "       Member_number\n",
       "count   38765.000000\n",
       "mean     3003.641868\n",
       "std      1153.611031\n",
       "min      1000.000000\n",
       "25%      2002.000000\n",
       "50%      3005.000000\n",
       "75%      4007.000000\n",
       "max      5000.000000"
      ]
     },
     "execution_count": 5,
     "metadata": {},
     "output_type": "execute_result"
    }
   ],
   "source": [
    "df.describe()"
   ]
  },
  {
   "cell_type": "code",
   "execution_count": 6,
   "id": "fde6c0ba-0201-4527-b9f0-cfbaaa733ba5",
   "metadata": {},
   "outputs": [
    {
     "name": "stdout",
     "output_type": "stream",
     "text": [
      "<class 'pandas.core.frame.DataFrame'>\n",
      "RangeIndex: 38765 entries, 0 to 38764\n",
      "Data columns (total 3 columns):\n",
      " #   Column           Non-Null Count  Dtype \n",
      "---  ------           --------------  ----- \n",
      " 0   Member_number    38765 non-null  int64 \n",
      " 1   Date             38765 non-null  object\n",
      " 2   itemDescription  38765 non-null  object\n",
      "dtypes: int64(1), object(2)\n",
      "memory usage: 908.7+ KB\n"
     ]
    }
   ],
   "source": [
    "df.info()"
   ]
  },
  {
   "cell_type": "code",
   "execution_count": 7,
   "id": "45724d01-b61a-47c1-b38c-cfca640deb00",
   "metadata": {},
   "outputs": [
    {
     "data": {
      "text/plain": [
       "Member_number      38765\n",
       "Date               38765\n",
       "itemDescription    38765\n",
       "dtype: int64"
      ]
     },
     "execution_count": 7,
     "metadata": {},
     "output_type": "execute_result"
    }
   ],
   "source": [
    "df.notnull().sum()"
   ]
  },
  {
   "cell_type": "code",
   "execution_count": 8,
   "id": "0eed1fb8-0ed2-4b6b-b9d7-b07df8bbf143",
   "metadata": {},
   "outputs": [
    {
     "data": {
      "text/plain": [
       "Member_number      0\n",
       "Date               0\n",
       "itemDescription    0\n",
       "dtype: int64"
      ]
     },
     "execution_count": 8,
     "metadata": {},
     "output_type": "execute_result"
    }
   ],
   "source": [
    "df.isna().sum()"
   ]
  },
  {
   "cell_type": "code",
   "execution_count": 9,
   "id": "f56ea5fe-34b9-4e55-975f-356e017902de",
   "metadata": {},
   "outputs": [
    {
     "data": {
      "text/html": [
       "<div>\n",
       "<style scoped>\n",
       "    .dataframe tbody tr th:only-of-type {\n",
       "        vertical-align: middle;\n",
       "    }\n",
       "\n",
       "    .dataframe tbody tr th {\n",
       "        vertical-align: top;\n",
       "    }\n",
       "\n",
       "    .dataframe thead th {\n",
       "        text-align: right;\n",
       "    }\n",
       "</style>\n",
       "<table border=\"1\" class=\"dataframe\">\n",
       "  <thead>\n",
       "    <tr style=\"text-align: right;\">\n",
       "      <th></th>\n",
       "      <th>Member_number</th>\n",
       "      <th>Date</th>\n",
       "      <th>itemDescription</th>\n",
       "    </tr>\n",
       "  </thead>\n",
       "  <tbody>\n",
       "    <tr>\n",
       "      <th>0</th>\n",
       "      <td>1808</td>\n",
       "      <td>21-07-2015</td>\n",
       "      <td>tropical fruit</td>\n",
       "    </tr>\n",
       "    <tr>\n",
       "      <th>1</th>\n",
       "      <td>2552</td>\n",
       "      <td>05-01-2015</td>\n",
       "      <td>whole milk</td>\n",
       "    </tr>\n",
       "    <tr>\n",
       "      <th>2</th>\n",
       "      <td>2300</td>\n",
       "      <td>19-09-2015</td>\n",
       "      <td>pip fruit</td>\n",
       "    </tr>\n",
       "    <tr>\n",
       "      <th>3</th>\n",
       "      <td>1187</td>\n",
       "      <td>12-12-2015</td>\n",
       "      <td>other vegetables</td>\n",
       "    </tr>\n",
       "    <tr>\n",
       "      <th>4</th>\n",
       "      <td>3037</td>\n",
       "      <td>01-02-2015</td>\n",
       "      <td>whole milk</td>\n",
       "    </tr>\n",
       "  </tbody>\n",
       "</table>\n",
       "</div>"
      ],
      "text/plain": [
       "   Member_number        Date   itemDescription\n",
       "0           1808  21-07-2015    tropical fruit\n",
       "1           2552  05-01-2015        whole milk\n",
       "2           2300  19-09-2015         pip fruit\n",
       "3           1187  12-12-2015  other vegetables\n",
       "4           3037  01-02-2015        whole milk"
      ]
     },
     "execution_count": 9,
     "metadata": {},
     "output_type": "execute_result"
    }
   ],
   "source": [
    "df.head()"
   ]
  },
  {
   "cell_type": "code",
   "execution_count": 10,
   "id": "c2db0777-6db2-466a-8105-111752c8da07",
   "metadata": {},
   "outputs": [],
   "source": [
    "#setting index as Date\n",
    "df.set_index('Date',inplace = True)"
   ]
  },
  {
   "cell_type": "code",
   "execution_count": 11,
   "id": "3b4d72b0-11b4-4917-aaa3-eb7ded2da2ed",
   "metadata": {},
   "outputs": [
    {
     "data": {
      "text/html": [
       "<div>\n",
       "<style scoped>\n",
       "    .dataframe tbody tr th:only-of-type {\n",
       "        vertical-align: middle;\n",
       "    }\n",
       "\n",
       "    .dataframe tbody tr th {\n",
       "        vertical-align: top;\n",
       "    }\n",
       "\n",
       "    .dataframe thead th {\n",
       "        text-align: right;\n",
       "    }\n",
       "</style>\n",
       "<table border=\"1\" class=\"dataframe\">\n",
       "  <thead>\n",
       "    <tr style=\"text-align: right;\">\n",
       "      <th></th>\n",
       "      <th>Member_number</th>\n",
       "      <th>itemDescription</th>\n",
       "    </tr>\n",
       "    <tr>\n",
       "      <th>Date</th>\n",
       "      <th></th>\n",
       "      <th></th>\n",
       "    </tr>\n",
       "  </thead>\n",
       "  <tbody>\n",
       "    <tr>\n",
       "      <th>21-07-2015</th>\n",
       "      <td>1808</td>\n",
       "      <td>tropical fruit</td>\n",
       "    </tr>\n",
       "    <tr>\n",
       "      <th>05-01-2015</th>\n",
       "      <td>2552</td>\n",
       "      <td>whole milk</td>\n",
       "    </tr>\n",
       "    <tr>\n",
       "      <th>19-09-2015</th>\n",
       "      <td>2300</td>\n",
       "      <td>pip fruit</td>\n",
       "    </tr>\n",
       "    <tr>\n",
       "      <th>12-12-2015</th>\n",
       "      <td>1187</td>\n",
       "      <td>other vegetables</td>\n",
       "    </tr>\n",
       "    <tr>\n",
       "      <th>01-02-2015</th>\n",
       "      <td>3037</td>\n",
       "      <td>whole milk</td>\n",
       "    </tr>\n",
       "  </tbody>\n",
       "</table>\n",
       "</div>"
      ],
      "text/plain": [
       "            Member_number   itemDescription\n",
       "Date                                       \n",
       "21-07-2015           1808    tropical fruit\n",
       "05-01-2015           2552        whole milk\n",
       "19-09-2015           2300         pip fruit\n",
       "12-12-2015           1187  other vegetables\n",
       "01-02-2015           3037        whole milk"
      ]
     },
     "execution_count": 11,
     "metadata": {},
     "output_type": "execute_result"
    }
   ],
   "source": [
    "df.head()"
   ]
  },
  {
   "cell_type": "code",
   "execution_count": 12,
   "id": "06c52179-9f0e-443c-a2da-0dd445bb0f01",
   "metadata": {},
   "outputs": [
    {
     "name": "stderr",
     "output_type": "stream",
     "text": [
      "C:\\Users\\HP\\AppData\\Local\\Temp\\ipykernel_616\\1954437206.py:1: UserWarning: Parsing dates in %d-%m-%Y format when dayfirst=False (the default) was specified. Pass `dayfirst=True` or specify a format to silence this warning.\n",
      "  df.index=pd.to_datetime(df.index)\n"
     ]
    }
   ],
   "source": [
    "df.index=pd.to_datetime(df.index)"
   ]
  },
  {
   "cell_type": "code",
   "execution_count": 13,
   "id": "e2cae1d1-d8ab-4dc4-8f02-20bcd16f02f9",
   "metadata": {},
   "outputs": [
    {
     "data": {
      "text/html": [
       "<div>\n",
       "<style scoped>\n",
       "    .dataframe tbody tr th:only-of-type {\n",
       "        vertical-align: middle;\n",
       "    }\n",
       "\n",
       "    .dataframe tbody tr th {\n",
       "        vertical-align: top;\n",
       "    }\n",
       "\n",
       "    .dataframe thead th {\n",
       "        text-align: right;\n",
       "    }\n",
       "</style>\n",
       "<table border=\"1\" class=\"dataframe\">\n",
       "  <thead>\n",
       "    <tr style=\"text-align: right;\">\n",
       "      <th></th>\n",
       "      <th>Member_number</th>\n",
       "      <th>itemDescription</th>\n",
       "    </tr>\n",
       "    <tr>\n",
       "      <th>Date</th>\n",
       "      <th></th>\n",
       "      <th></th>\n",
       "    </tr>\n",
       "  </thead>\n",
       "  <tbody>\n",
       "    <tr>\n",
       "      <th>2015-07-21</th>\n",
       "      <td>1808</td>\n",
       "      <td>tropical fruit</td>\n",
       "    </tr>\n",
       "    <tr>\n",
       "      <th>2015-01-05</th>\n",
       "      <td>2552</td>\n",
       "      <td>whole milk</td>\n",
       "    </tr>\n",
       "    <tr>\n",
       "      <th>2015-09-19</th>\n",
       "      <td>2300</td>\n",
       "      <td>pip fruit</td>\n",
       "    </tr>\n",
       "    <tr>\n",
       "      <th>2015-12-12</th>\n",
       "      <td>1187</td>\n",
       "      <td>other vegetables</td>\n",
       "    </tr>\n",
       "    <tr>\n",
       "      <th>2015-02-01</th>\n",
       "      <td>3037</td>\n",
       "      <td>whole milk</td>\n",
       "    </tr>\n",
       "  </tbody>\n",
       "</table>\n",
       "</div>"
      ],
      "text/plain": [
       "            Member_number   itemDescription\n",
       "Date                                       \n",
       "2015-07-21           1808    tropical fruit\n",
       "2015-01-05           2552        whole milk\n",
       "2015-09-19           2300         pip fruit\n",
       "2015-12-12           1187  other vegetables\n",
       "2015-02-01           3037        whole milk"
      ]
     },
     "execution_count": 13,
     "metadata": {},
     "output_type": "execute_result"
    }
   ],
   "source": [
    "df.head()"
   ]
  },
  {
   "cell_type": "code",
   "execution_count": 14,
   "id": "0b51c436-29ca-4b7e-bfff-b1eddd0a41c8",
   "metadata": {},
   "outputs": [
    {
     "data": {
      "text/plain": [
       "(38765, 2)"
      ]
     },
     "execution_count": 14,
     "metadata": {},
     "output_type": "execute_result"
    }
   ],
   "source": [
    "df.shape"
   ]
  },
  {
   "cell_type": "code",
   "execution_count": 15,
   "id": "9ad01e17-3937-4cd6-b76c-d34f8d167cbe",
   "metadata": {},
   "outputs": [
    {
     "name": "stdout",
     "output_type": "stream",
     "text": [
      "38765 728 2\n"
     ]
    }
   ],
   "source": [
    "total_item = len(df)\n",
    "total_days = len(np.unique(df.index.date))\n",
    "total_months = len(np.unique(df.index.year))\n",
    "print(total_item,total_days,total_months)"
   ]
  },
  {
   "cell_type": "code",
   "execution_count": 16,
   "id": "441f9856-c7ff-47ed-8de8-8040c050671a",
   "metadata": {},
   "outputs": [
    {
     "data": {
      "image/png": "[encoded data removed]",
      "text/plain": [
       "<Figure size 1500x500 with 1 Axes>"
      ]
     },
     "metadata": {},
     "output_type": "display_data"
    }
   ],
   "source": [
    "plt.figure(figsize=(15,5))\n",
    "sns.barplot(x = df.itemDescription.value_counts().head(20).index, y = df.itemDescription.value_counts().head(20).values, palette = 'gnuplot')\n",
    "plt.xlabel('itemDescription', size = 15)\n",
    "plt.xticks(rotation=45)\n",
    "plt.ylabel('Count of Items', size = 15)\n",
    "plt.title('Top 20 Items purchased by customers', color = 'blue', size = 20)\n",
    "plt.show()"
   ]
  },
  {
   "cell_type": "code",
   "execution_count": 17,
   "id": "8c23096a-12d3-44a6-a37d-f10f302380e5",
   "metadata": {},
   "outputs": [
    {
     "data": {
      "text/plain": [
       "itemDescription\n",
       "whole milk               2502\n",
       "other vegetables         1898\n",
       "rolls/buns               1716\n",
       "soda                     1514\n",
       "yogurt                   1334\n",
       "                         ... \n",
       "rubbing alcohol             5\n",
       "bags                        4\n",
       "baby cosmetics              3\n",
       "kitchen utensil             1\n",
       "preservation products       1\n",
       "Name: count, Length: 167, dtype: int64"
      ]
     },
     "execution_count": 17,
     "metadata": {},
     "output_type": "execute_result"
    }
   ],
   "source": [
    "df['itemDescription'].value_counts()"
   ]
  },
  {
   "cell_type": "code",
   "execution_count": 18,
   "id": "1c7b9638-41d4-4768-b72d-978cf3d9a1f5",
   "metadata": {},
   "outputs": [],
   "source": [
    "#grouping dataset to form a list of products bought by same customer on same date\n",
    "df=df.groupby(['Member_number','Date'])['itemDescription'].apply(lambda x: list(x))\n"
   ]
  },
  {
   "cell_type": "code",
   "execution_count": 19,
   "id": "200ec25e-939c-4269-b504-12c6dcb24c7b",
   "metadata": {},
   "outputs": [
    {
     "data": {
      "text/plain": [
       "Member_number  Date      \n",
       "1000           2014-06-24                    [whole milk, pastry, salty snack]\n",
       "               2015-03-15    [sausage, whole milk, semi-finished bread, yog...\n",
       "               2015-05-27                           [soda, pickled vegetables]\n",
       "               2015-07-24                       [canned beer, misc. beverages]\n",
       "               2015-11-25                          [sausage, hygiene articles]\n",
       "1001           2014-02-07                    [sausage, whole milk, rolls/buns]\n",
       "               2014-12-12                                   [whole milk, soda]\n",
       "               2015-01-20              [frankfurter, soda, whipped/sour cream]\n",
       "               2015-04-14                                  [beef, white bread]\n",
       "               2015-05-02                                  [frankfurter, curd]\n",
       "Name: itemDescription, dtype: object"
      ]
     },
     "execution_count": 19,
     "metadata": {},
     "output_type": "execute_result"
    }
   ],
   "source": [
    "df.head(10)"
   ]
  },
  {
   "cell_type": "code",
   "execution_count": 40,
   "id": "75065209-57bf-44a8-8843-5ae05da73d36",
   "metadata": {},
   "outputs": [
    {
     "data": {
      "text/plain": [
       "[['whole milk', 'pastry', 'salty snack'],\n",
       " ['sausage', 'whole milk', 'semi-finished bread', 'yogurt'],\n",
       " ['soda', 'pickled vegetables'],\n",
       " ['canned beer', 'misc. beverages'],\n",
       " ['sausage', 'hygiene articles'],\n",
       " ['sausage', 'whole milk', 'rolls/buns'],\n",
       " ['whole milk', 'soda'],\n",
       " ['frankfurter', 'soda', 'whipped/sour cream'],\n",
       " ['beef', 'white bread'],\n",
       " ['frankfurter', 'curd']]"
      ]
     },
     "execution_count": 40,
     "metadata": {},
     "output_type": "execute_result"
    }
   ],
   "source": [
    "#apriori takes list as an input, hence converting dataset to a list\n",
    "transactions = df.values.tolist()\n",
    "transactions[:10]"
   ]
  },
  {
   "cell_type": "code",
   "execution_count": 44,
   "id": "11f52827-444a-489f-b31a-da68e03b75d8",
   "metadata": {},
   "outputs": [
    {
     "data": {
      "text/plain": [
       "[RelationRecord(items=frozenset({'artif. sweetener', 'soda'}), support=0.00046782062420637575, ordered_statistics=[OrderedStatistic(items_base=frozenset({'artif. sweetener'}), items_add=frozenset({'soda'}), confidence=0.2413793103448276, lift=2.4857251346797353)]),\n",
       " RelationRecord(items=frozenset({'condensed milk', 'berries'}), support=0.0003341575887188398, ordered_statistics=[OrderedStatistic(items_base=frozenset({'condensed milk'}), items_add=frozenset({'berries'}), confidence=0.05102040816326531, lift=2.34177413296607)]),\n",
       " RelationRecord(items=frozenset({'whole milk', 'brandy'}), support=0.0008688097306689834, ordered_statistics=[OrderedStatistic(items_base=frozenset({'brandy'}), items_add=frozenset({'whole milk'}), confidence=0.34210526315789475, lift=2.1662805978127717)]),\n",
       " RelationRecord(items=frozenset({'sweet spreads', 'butter'}), support=0.0003341575887188398, ordered_statistics=[OrderedStatistic(items_base=frozenset({'sweet spreads'}), items_add=frozenset({'butter'}), confidence=0.07352941176470588, lift=2.087705101015738)]),\n",
       " RelationRecord(items=frozenset({'liver loaf', 'canned beer'}), support=0.00040098910646260775, ordered_statistics=[OrderedStatistic(items_base=frozenset({'liver loaf'}), items_add=frozenset({'canned beer'}), confidence=0.12, lift=2.5577777777777775)]),\n",
       " RelationRecord(items=frozenset({'frozen fish', 'chocolate'}), support=0.00040098910646260775, ordered_statistics=[OrderedStatistic(items_base=frozenset({'frozen fish'}), items_add=frozenset({'chocolate'}), confidence=0.058823529411764705, lift=2.493417763706049)]),\n",
       " RelationRecord(items=frozenset({'citrus fruit', 'sauces'}), support=0.0003341575887188398, ordered_statistics=[OrderedStatistic(items_base=frozenset({'sauces'}), items_add=frozenset({'citrus fruit'}), confidence=0.11363636363636365, lift=2.1387935963407663)]),\n",
       " RelationRecord(items=frozenset({'cling film/bags', 'curd'}), support=0.0003341575887188398, ordered_statistics=[OrderedStatistic(items_base=frozenset({'cling film/bags'}), items_add=frozenset({'curd'}), confidence=0.06756756756756757, lift=2.005979193479194)]),\n",
       " RelationRecord(items=frozenset({'condensed milk', 'waffles'}), support=0.0003341575887188398, ordered_statistics=[OrderedStatistic(items_base=frozenset({'condensed milk'}), items_add=frozenset({'waffles'}), confidence=0.05102040816326531, lift=2.7560229868120536)]),\n",
       " RelationRecord(items=frozenset({'mustard', 'frankfurter'}), support=0.0005346521419501437, ordered_statistics=[OrderedStatistic(items_base=frozenset({'mustard'}), items_add=frozenset({'frankfurter'}), confidence=0.08695652173913045, lift=2.302885725278954)]),\n",
       " RelationRecord(items=frozenset({'fruit/vegetable juice', 'liver loaf'}), support=0.00040098910646260775, ordered_statistics=[OrderedStatistic(items_base=frozenset({'liver loaf'}), items_add=frozenset({'fruit/vegetable juice'}), confidence=0.12, lift=3.5276227897838903)]),\n",
       " RelationRecord(items=frozenset({'pickled vegetables', 'ham'}), support=0.0005346521419501437, ordered_statistics=[OrderedStatistic(items_base=frozenset({'pickled vegetables'}), items_add=frozenset({'ham'}), confidence=0.05970149253731344, lift=3.4895055970149254)]),\n",
       " RelationRecord(items=frozenset({'hamburger meat', 'pasta'}), support=0.00046782062420637575, ordered_statistics=[OrderedStatistic(items_base=frozenset({'pasta'}), items_add=frozenset({'hamburger meat'}), confidence=0.05785123966942149, lift=2.6471807314175955)]),\n",
       " RelationRecord(items=frozenset({'hamburger meat', 'soft cheese'}), support=0.0006014836596939117, ordered_statistics=[OrderedStatistic(items_base=frozenset({'soft cheese'}), items_add=frozenset({'hamburger meat'}), confidence=0.060000000000000005, lift=2.745504587155964)]),\n",
       " RelationRecord(items=frozenset({'spread cheese', 'hamburger meat'}), support=0.0003341575887188398, ordered_statistics=[OrderedStatistic(items_base=frozenset({'spread cheese'}), items_add=frozenset({'hamburger meat'}), confidence=0.05, lift=2.2879204892966363)]),\n",
       " RelationRecord(items=frozenset({'roll products ', 'meat'}), support=0.0003341575887188398, ordered_statistics=[OrderedStatistic(items_base=frozenset({'roll products '}), items_add=frozenset({'meat'}), confidence=0.06097560975609757, lift=3.620547812620984)]),\n",
       " RelationRecord(items=frozenset({'meat spreads', 'sausage'}), support=0.0003341575887188398, ordered_statistics=[OrderedStatistic(items_base=frozenset({'meat spreads'}), items_add=frozenset({'sausage'}), confidence=0.14285714285714288, lift=2.3671887359595005)]),\n",
       " RelationRecord(items=frozenset({'misc. beverages', 'salt'}), support=0.0003341575887188398, ordered_statistics=[OrderedStatistic(items_base=frozenset({'salt'}), items_add=frozenset({'misc. beverages'}), confidence=0.05617977528089888, lift=3.5619405827461437)]),\n",
       " RelationRecord(items=frozenset({'spread cheese', 'misc. beverages'}), support=0.0003341575887188398, ordered_statistics=[OrderedStatistic(items_base=frozenset({'spread cheese'}), items_add=frozenset({'misc. beverages'}), confidence=0.05, lift=3.170127118644068)]),\n",
       " RelationRecord(items=frozenset({'mustard', 'white bread'}), support=0.0003341575887188398, ordered_statistics=[OrderedStatistic(items_base=frozenset({'mustard'}), items_add=frozenset({'white bread'}), confidence=0.05434782608695652, lift=2.2651992249000847)]),\n",
       " RelationRecord(items=frozenset({'pip fruit', 'sweet spreads'}), support=0.0005346521419501437, ordered_statistics=[OrderedStatistic(items_base=frozenset({'sweet spreads'}), items_add=frozenset({'pip fruit'}), confidence=0.11764705882352942, lift=2.398301009777208)]),\n",
       " RelationRecord(items=frozenset({'pork', 'popcorn'}), support=0.0003341575887188398, ordered_statistics=[OrderedStatistic(items_base=frozenset({'popcorn'}), items_add=frozenset({'pork'}), confidence=0.10416666666666667, lift=2.808370870870871)]),\n",
       " RelationRecord(items=frozenset({'sausage', 'rum'}), support=0.0003341575887188398, ordered_statistics=[OrderedStatistic(items_base=frozenset({'rum'}), items_add=frozenset({'sausage'}), confidence=0.15625, lift=2.589112679955703)]),\n",
       " RelationRecord(items=frozenset({'sausage', 'spices'}), support=0.0003341575887188398, ordered_statistics=[OrderedStatistic(items_base=frozenset({'spices'}), items_add=frozenset({'sausage'}), confidence=0.125, lift=2.0712901439645623)]),\n",
       " RelationRecord(items=frozenset({'soups', 'seasonal products'}), support=0.0003341575887188398, ordered_statistics=[OrderedStatistic(items_base=frozenset({'soups'}), items_add=frozenset({'seasonal products'}), confidence=0.10416666666666667, lift=14.704205974842768)]),\n",
       " RelationRecord(items=frozenset({'soda', 'spices'}), support=0.0006014836596939117, ordered_statistics=[OrderedStatistic(items_base=frozenset({'spices'}), items_add=frozenset({'soda'}), confidence=0.225, lift=2.317050929112182)]),\n",
       " RelationRecord(items=frozenset({'spread cheese', 'sugar'}), support=0.00040098910646260775, ordered_statistics=[OrderedStatistic(items_base=frozenset({'spread cheese'}), items_add=frozenset({'sugar'}), confidence=0.06, lift=3.3878490566037733)]),\n",
       " RelationRecord(items=frozenset({'sweet spreads', 'tropical fruit'}), support=0.0007351466951814476, ordered_statistics=[OrderedStatistic(items_base=frozenset({'sweet spreads'}), items_add=frozenset({'tropical fruit'}), confidence=0.16176470588235295, lift=2.387066365007542)]),\n",
       " RelationRecord(items=frozenset({'whole milk', 'bottled beer', 'beef'}), support=0.00040098910646260775, ordered_statistics=[OrderedStatistic(items_base=frozenset({'bottled beer', 'beef'}), items_add=frozenset({'whole milk'}), confidence=0.37499999999999994, lift=2.3745768091409225)]),\n",
       " RelationRecord(items=frozenset({'whole milk', 'beef', 'whipped/sour cream'}), support=0.00046782062420637575, ordered_statistics=[OrderedStatistic(items_base=frozenset({'beef', 'whipped/sour cream'}), items_add=frozenset({'whole milk'}), confidence=0.33333333333333337, lift=2.110734941458598), OrderedStatistic(items_base=frozenset({'whole milk', 'beef'}), items_add=frozenset({'whipped/sour cream'}), confidence=0.1, lift=2.2879204892966363), OrderedStatistic(items_base=frozenset({'whole milk', 'whipped/sour cream'}), items_add=frozenset({'beef'}), confidence=0.10144927536231885, lift=2.988160447335388)]),\n",
       " RelationRecord(items=frozenset({'sausage', 'beverages', 'whole milk'}), support=0.0003341575887188398, ordered_statistics=[OrderedStatistic(items_base=frozenset({'whole milk', 'beverages'}), items_add=frozenset({'sausage'}), confidence=0.1724137931034483, lift=2.8569519227097415)]),\n",
       " RelationRecord(items=frozenset({'sausage', 'bottled beer', 'bottled water'}), support=0.0003341575887188398, ordered_statistics=[OrderedStatistic(items_base=frozenset({'bottled beer', 'bottled water'}), items_add=frozenset({'sausage'}), confidence=0.13157894736842107, lift=2.1803054146995398), OrderedStatistic(items_base=frozenset({'sausage', 'bottled water'}), items_add=frozenset({'bottled beer'}), confidence=0.10638297872340426, lift=2.3478001631833303)]),\n",
       " RelationRecord(items=frozenset({'sausage', 'bottled beer', 'butter'}), support=0.0003341575887188398, ordered_statistics=[OrderedStatistic(items_base=frozenset({'bottled beer', 'butter'}), items_add=frozenset({'sausage'}), confidence=0.2, lift=3.3140642303433), OrderedStatistic(items_base=frozenset({'sausage', 'bottled beer'}), items_add=frozenset({'butter'}), confidence=0.1, lift=2.8392789373814042), OrderedStatistic(items_base=frozenset({'sausage', 'butter'}), items_add=frozenset({'bottled beer'}), confidence=0.1724137931034483, lift=3.8050554368833285)]),\n",
       " RelationRecord(items=frozenset({'whole milk', 'bottled beer', 'chicken'}), support=0.0003341575887188398, ordered_statistics=[OrderedStatistic(items_base=frozenset({'bottled beer', 'chicken'}), items_add=frozenset({'whole milk'}), confidence=0.3333333333333333, lift=2.110734941458598), OrderedStatistic(items_base=frozenset({'whole milk', 'chicken'}), items_add=frozenset({'bottled beer'}), confidence=0.09803921568627451, lift=2.1636589739140493)]),\n",
       " RelationRecord(items=frozenset({'whole milk', 'bottled beer', 'chocolate'}), support=0.0003341575887188398, ordered_statistics=[OrderedStatistic(items_base=frozenset({'bottled beer', 'chocolate'}), items_add=frozenset({'whole milk'}), confidence=0.3333333333333333, lift=2.110734941458598), OrderedStatistic(items_base=frozenset({'whole milk', 'chocolate'}), items_add=frozenset({'bottled beer'}), confidence=0.11363636363636365, lift=2.5078774470367393)]),\n",
       " RelationRecord(items=frozenset({'bottled beer', 'domestic eggs', 'rolls/buns'}), support=0.0003341575887188398, ordered_statistics=[OrderedStatistic(items_base=frozenset({'bottled beer', 'rolls/buns'}), items_add=frozenset({'domestic eggs'}), confidence=0.08333333333333333, lift=2.246696696696697), OrderedStatistic(items_base=frozenset({'rolls/buns', 'domestic eggs'}), items_add=frozenset({'bottled beer'}), confidence=0.09803921568627451, lift=2.1636589739140493)]),\n",
       " RelationRecord(items=frozenset({'frankfurter', 'bottled beer', 'rolls/buns'}), support=0.0003341575887188398, ordered_statistics=[OrderedStatistic(items_base=frozenset({'bottled beer', 'rolls/buns'}), items_add=frozenset({'frankfurter'}), confidence=0.08333333333333333, lift=2.2069321533923305), OrderedStatistic(items_base=frozenset({'frankfurter', 'rolls/buns'}), items_add=frozenset({'bottled beer'}), confidence=0.09090909090909091, lift=2.006301957629391)]),\n",
       " RelationRecord(items=frozenset({'whole milk', 'bottled beer', 'hard cheese'}), support=0.0003341575887188398, ordered_statistics=[OrderedStatistic(items_base=frozenset({'bottled beer', 'hard cheese'}), items_add=frozenset({'whole milk'}), confidence=0.4545454545454546, lift=2.8782749201708158), OrderedStatistic(items_base=frozenset({'whole milk', 'hard cheese'}), items_add=frozenset({'bottled beer'}), confidence=0.17857142857142858, lift=3.9409502739148756)]),\n",
       " RelationRecord(items=frozenset({'bottled water', 'yogurt', 'newspapers'}), support=0.00040098910646260775, ordered_statistics=[OrderedStatistic(items_base=frozenset({'bottled water', 'newspapers'}), items_add=frozenset({'yogurt'}), confidence=0.2222222222222222, lift=2.5876351059230434), OrderedStatistic(items_base=frozenset({'bottled water', 'yogurt'}), items_add=frozenset({'newspapers'}), confidence=0.10526315789473684, lift=2.7062759992765417), OrderedStatistic(items_base=frozenset({'yogurt', 'newspapers'}), items_add=frozenset({'bottled water'}), confidence=0.13953488372093023, lift=2.29940579858621)]),\n",
       " RelationRecord(items=frozenset({'brown bread', 'canned beer', 'frozen vegetables'}), support=0.0003341575887188398, ordered_statistics=[OrderedStatistic(items_base=frozenset({'brown bread', 'canned beer'}), items_add=frozenset({'frozen vegetables'}), confidence=0.1388888888888889, lift=4.959891275523733), OrderedStatistic(items_base=frozenset({'brown bread', 'frozen vegetables'}), items_add=frozenset({'canned beer'}), confidence=0.35714285714285715, lift=7.612433862433862), OrderedStatistic(items_base=frozenset({'canned beer', 'frozen vegetables'}), items_add=frozenset({'brown bread'}), confidence=0.25, lift=6.644316163410303)]),\n",
       " RelationRecord(items=frozenset({'brown bread', 'canned beer', 'sausage'}), support=0.00040098910646260775, ordered_statistics=[OrderedStatistic(items_base=frozenset({'brown bread', 'canned beer'}), items_add=frozenset({'sausage'}), confidence=0.16666666666666666, lift=2.7617201919527496), OrderedStatistic(items_base=frozenset({'brown bread', 'sausage'}), items_add=frozenset({'canned beer'}), confidence=0.2222222222222222, lift=4.736625514403292), OrderedStatistic(items_base=frozenset({'sausage', 'canned beer'}), items_add=frozenset({'brown bread'}), confidence=0.16216216216216214, lift=4.309826700590466)]),\n",
       " RelationRecord(items=frozenset({'brown bread', 'pork', 'whole milk'}), support=0.0003341575887188398, ordered_statistics=[OrderedStatistic(items_base=frozenset({'brown bread', 'whole milk'}), items_add=frozenset({'pork'}), confidence=0.0746268656716418, lift=2.011967191071669)]),\n",
       " RelationRecord(items=frozenset({'frankfurter', 'soda', 'butter'}), support=0.0003341575887188398, ordered_statistics=[OrderedStatistic(items_base=frozenset({'frankfurter', 'butter'}), items_add=frozenset({'soda'}), confidence=0.2380952380952381, lift=2.451905745092256), OrderedStatistic(items_base=frozenset({'soda', 'butter'}), items_add=frozenset({'frankfurter'}), confidence=0.10638297872340426, lift=2.8173601958199965), OrderedStatistic(items_base=frozenset({'frankfurter', 'soda'}), items_add=frozenset({'butter'}), confidence=0.10869565217391304, lift=3.0861727580232654)]),\n",
       " RelationRecord(items=frozenset({'shopping bags', 'soda', 'butter'}), support=0.0003341575887188398, ordered_statistics=[OrderedStatistic(items_base=frozenset({'shopping bags', 'butter'}), items_add=frozenset({'soda'}), confidence=0.25, lift=2.574501032346869), OrderedStatistic(items_base=frozenset({'soda', 'butter'}), items_add=frozenset({'shopping bags'}), confidence=0.10638297872340426, lift=2.235686110447048), OrderedStatistic(items_base=frozenset({'shopping bags', 'soda'}), items_add=frozenset({'butter'}), confidence=0.07575757575757576, lift=2.150968891955609)]),\n",
       " RelationRecord(items=frozenset({'canned beer', 'butter milk', 'yogurt'}), support=0.0003341575887188398, ordered_statistics=[OrderedStatistic(items_base=frozenset({'canned beer', 'butter milk'}), items_add=frozenset({'yogurt'}), confidence=0.4166666666666667, lift=4.851815823605707), OrderedStatistic(items_base=frozenset({'butter milk', 'yogurt'}), items_add=frozenset({'canned beer'}), confidence=0.26315789473684215, lift=5.609161793372321), OrderedStatistic(items_base=frozenset({'canned beer', 'yogurt'}), items_add=frozenset({'butter milk'}), confidence=0.08620689655172414, lift=4.9046151829028455)]),\n",
       " RelationRecord(items=frozenset({'candy', 'rolls/buns', 'yogurt'}), support=0.0003341575887188398, ordered_statistics=[OrderedStatistic(items_base=frozenset({'candy', 'rolls/buns'}), items_add=frozenset({'yogurt'}), confidence=0.2272727272727273, lift=2.646444994694022), OrderedStatistic(items_base=frozenset({'candy', 'yogurt'}), items_add=frozenset({'rolls/buns'}), confidence=0.2777777777777778, lift=2.5251451329823142)]),\n",
       " RelationRecord(items=frozenset({'whole milk', 'canned beer', 'chicken'}), support=0.00040098910646260775, ordered_statistics=[OrderedStatistic(items_base=frozenset({'canned beer', 'chicken'}), items_add=frozenset({'whole milk'}), confidence=0.3529411764705882, lift=2.234895820367927), OrderedStatistic(items_base=frozenset({'whole milk', 'canned beer'}), items_add=frozenset({'chicken'}), confidence=0.06666666666666667, lift=2.3921662669864108), OrderedStatistic(items_base=frozenset({'whole milk', 'chicken'}), items_add=frozenset({'canned beer'}), confidence=0.11764705882352941, lift=2.5076252723311545)]),\n",
       " RelationRecord(items=frozenset({'sausage', 'canned beer', 'frozen vegetables'}), support=0.0003341575887188398, ordered_statistics=[OrderedStatistic(items_base=frozenset({'canned beer', 'frozen vegetables'}), items_add=frozenset({'sausage'}), confidence=0.25, lift=4.142580287929125), OrderedStatistic(items_base=frozenset({'sausage', 'canned beer'}), items_add=frozenset({'frozen vegetables'}), confidence=0.13513513513513514, lift=4.825840159969038), OrderedStatistic(items_base=frozenset({'sausage', 'frozen vegetables'}), items_add=frozenset({'canned beer'}), confidence=0.16129032258064518, lift=3.4378733572281965)]),\n",
       " RelationRecord(items=frozenset({'whole milk', 'canned beer', 'hygiene articles'}), support=0.00040098910646260775, ordered_statistics=[OrderedStatistic(items_base=frozenset({'canned beer', 'hygiene articles'}), items_add=frozenset({'whole milk'}), confidence=0.5454545454545454, lift=3.4539299042049785), OrderedStatistic(items_base=frozenset({'whole milk', 'canned beer'}), items_add=frozenset({'hygiene articles'}), confidence=0.06666666666666667, lift=4.866016260162602), OrderedStatistic(items_base=frozenset({'whole milk', 'hygiene articles'}), items_add=frozenset({'canned beer'}), confidence=0.23076923076923078, lift=4.918803418803419)]),\n",
       " RelationRecord(items=frozenset({'rolls/buns', 'canned beer', 'pork'}), support=0.0003341575887188398, ordered_statistics=[OrderedStatistic(items_base=frozenset({'rolls/buns', 'canned beer'}), items_add=frozenset({'pork'}), confidence=0.07936507936507937, lift=2.13971113971114), OrderedStatistic(items_base=frozenset({'rolls/buns', 'pork'}), items_add=frozenset({'canned beer'}), confidence=0.09803921568627451, lift=2.089687726942629)]),\n",
       " RelationRecord(items=frozenset({'yogurt', 'soda', 'chewing gum'}), support=0.00040098910646260775, ordered_statistics=[OrderedStatistic(items_base=frozenset({'soda', 'chewing gum'}), items_add=frozenset({'yogurt'}), confidence=0.39999999999999997, lift=4.657743190661479), OrderedStatistic(items_base=frozenset({'yogurt', 'chewing gum'}), items_add=frozenset({'soda'}), confidence=0.2857142857142857, lift=2.942286894110707), OrderedStatistic(items_base=frozenset({'yogurt', 'soda'}), items_add=frozenset({'chewing gum'}), confidence=0.06896551724137931, lift=5.732950191570882)]),\n",
       " RelationRecord(items=frozenset({'whole milk', 'yogurt', 'chewing gum'}), support=0.0003341575887188398, ordered_statistics=[OrderedStatistic(items_base=frozenset({'whole milk', 'chewing gum'}), items_add=frozenset({'yogurt'}), confidence=0.2, lift=2.3288715953307393)]),\n",
       " RelationRecord(items=frozenset({'other vegetables', 'citrus fruit', 'curd'}), support=0.0003341575887188398, ordered_statistics=[OrderedStatistic(items_base=frozenset({'citrus fruit', 'curd'}), items_add=frozenset({'other vegetables'}), confidence=0.29411764705882354, lift=2.4088026015003705), OrderedStatistic(items_base=frozenset({'other vegetables', 'citrus fruit'}), items_add=frozenset({'curd'}), confidence=0.06944444444444445, lift=2.061700837742505)]),\n",
       " RelationRecord(items=frozenset({'frankfurter', 'citrus fruit', 'yogurt'}), support=0.0003341575887188398, ordered_statistics=[OrderedStatistic(items_base=frozenset({'frankfurter', 'citrus fruit'}), items_add=frozenset({'yogurt'}), confidence=0.19230769230769232, lift=2.2392996108949417), OrderedStatistic(items_base=frozenset({'frankfurter', 'yogurt'}), items_add=frozenset({'citrus fruit'}), confidence=0.13157894736842107, lift=2.4764978483945717)]),\n",
       " RelationRecord(items=frozenset({'other vegetables', 'citrus fruit', 'frozen vegetables'}), support=0.0003341575887188398, ordered_statistics=[OrderedStatistic(items_base=frozenset({'other vegetables', 'citrus fruit'}), items_add=frozenset({'frozen vegetables'}), confidence=0.06944444444444445, lift=2.4799456377618667), OrderedStatistic(items_base=frozenset({'other vegetables', 'frozen vegetables'}), items_add=frozenset({'citrus fruit'}), confidence=0.10638297872340426, lift=2.0022748561488024)]),\n",
       " RelationRecord(items=frozenset({'other vegetables', 'citrus fruit', 'pip fruit'}), support=0.00040098910646260775, ordered_statistics=[OrderedStatistic(items_base=frozenset({'pip fruit', 'citrus fruit'}), items_add=frozenset({'other vegetables'}), confidence=0.2727272727272727, lift=2.2336169577548888)]),\n",
       " RelationRecord(items=frozenset({'other vegetables', 'citrus fruit', 'pork'}), support=0.00046782062420637575, ordered_statistics=[OrderedStatistic(items_base=frozenset({'other vegetables', 'citrus fruit'}), items_add=frozenset({'pork'}), confidence=0.09722222222222222, lift=2.6211461461461463), OrderedStatistic(items_base=frozenset({'citrus fruit', 'pork'}), items_add=frozenset({'other vegetables'}), confidence=0.35000000000000003, lift=2.866475095785441), OrderedStatistic(items_base=frozenset({'other vegetables', 'pork'}), items_add=frozenset({'citrus fruit'}), confidence=0.11864406779661017, lift=2.233045517535444)]),\n",
       " RelationRecord(items=frozenset({'citrus fruit', 'yogurt', 'pork'}), support=0.00040098910646260775, ordered_statistics=[OrderedStatistic(items_base=frozenset({'citrus fruit', 'pork'}), items_add=frozenset({'yogurt'}), confidence=0.3, lift=3.4933073929961087), OrderedStatistic(items_base=frozenset({'citrus fruit', 'yogurt'}), items_add=frozenset({'pork'}), confidence=0.08695652173913043, lift=2.3443791617704663), OrderedStatistic(items_base=frozenset({'pork', 'yogurt'}), items_add=frozenset({'citrus fruit'}), confidence=0.13043478260869565, lift=2.454963084495488)]),\n",
       " RelationRecord(items=frozenset({'coffee', 'frankfurter', 'rolls/buns'}), support=0.0003341575887188398, ordered_statistics=[OrderedStatistic(items_base=frozenset({'coffee', 'frankfurter'}), items_add=frozenset({'rolls/buns'}), confidence=0.2272727272727273, lift=2.066027836076439), OrderedStatistic(items_base=frozenset({'coffee', 'rolls/buns'}), items_add=frozenset({'frankfurter'}), confidence=0.1388888888888889, lift=3.6782202556538843), OrderedStatistic(items_base=frozenset({'frankfurter', 'rolls/buns'}), items_add=frozenset({'coffee'}), confidence=0.09090909090909091, lift=2.8758408610417066)]),\n",
       " RelationRecord(items=frozenset({'coffee', 'frankfurter', 'soda'}), support=0.0003341575887188398, ordered_statistics=[OrderedStatistic(items_base=frozenset({'coffee', 'frankfurter'}), items_add=frozenset({'soda'}), confidence=0.2272727272727273, lift=2.340455483951699), OrderedStatistic(items_base=frozenset({'coffee', 'soda'}), items_add=frozenset({'frankfurter'}), confidence=0.13513513513513514, lift=3.578808897392969), OrderedStatistic(items_base=frozenset({'frankfurter', 'soda'}), items_add=frozenset({'coffee'}), confidence=0.10869565217391304, lift=3.438505377332475)]),\n",
       " RelationRecord(items=frozenset({'coffee', 'pastry', 'sausage'}), support=0.0003341575887188398, ordered_statistics=[OrderedStatistic(items_base=frozenset({'coffee', 'pastry'}), items_add=frozenset({'sausage'}), confidence=0.2380952380952381, lift=3.9453145599325), OrderedStatistic(items_base=frozenset({'coffee', 'sausage'}), items_add=frozenset({'pastry'}), confidence=0.25, lift=4.833010335917313), OrderedStatistic(items_base=frozenset({'sausage', 'pastry'}), items_add=frozenset({'coffee'}), confidence=0.10416666666666667, lift=3.2952343199436225)]),\n",
       " RelationRecord(items=frozenset({'coffee', 'root vegetables', 'soda'}), support=0.00040098910646260775, ordered_statistics=[OrderedStatistic(items_base=frozenset({'coffee', 'root vegetables'}), items_add=frozenset({'soda'}), confidence=0.19999999999999998, lift=2.059600825877495), OrderedStatistic(items_base=frozenset({'coffee', 'soda'}), items_add=frozenset({'root vegetables'}), confidence=0.16216216216216214, lift=2.330866889944699), OrderedStatistic(items_base=frozenset({'root vegetables', 'soda'}), items_add=frozenset({'coffee'}), confidence=0.07594936708860758, lift=2.402601225680413)]),\n",
       " RelationRecord(items=frozenset({'cream cheese ', 'other vegetables', 'root vegetables'}), support=0.0003341575887188398, ordered_statistics=[OrderedStatistic(items_base=frozenset({'cream cheese ', 'other vegetables'}), items_add=frozenset({'root vegetables'}), confidence=0.15625, lift=2.245887367915466), OrderedStatistic(items_base=frozenset({'other vegetables', 'root vegetables'}), items_add=frozenset({'cream cheese '}), confidence=0.06329113924050633, lift=2.6752127583494247)]),\n",
       " RelationRecord(items=frozenset({'sausage', 'fruit/vegetable juice', 'curd'}), support=0.0003341575887188398, ordered_statistics=[OrderedStatistic(items_base=frozenset({'fruit/vegetable juice', 'curd'}), items_add=frozenset({'sausage'}), confidence=0.5, lift=8.28516057585825), OrderedStatistic(items_base=frozenset({'sausage', 'curd'}), items_add=frozenset({'fruit/vegetable juice'}), confidence=0.11363636363636365, lift=3.340551884265048), OrderedStatistic(items_base=frozenset({'sausage', 'fruit/vegetable juice'}), items_add=frozenset({'curd'}), confidence=0.1851851851851852, lift=5.497868900646679)]),\n",
       " RelationRecord(items=frozenset({'sausage', 'margarine', 'curd'}), support=0.0003341575887188398, ordered_statistics=[OrderedStatistic(items_base=frozenset({'margarine', 'curd'}), items_add=frozenset({'sausage'}), confidence=0.3125, lift=5.178225359911406), OrderedStatistic(items_base=frozenset({'sausage', 'curd'}), items_add=frozenset({'margarine'}), confidence=0.11363636363636365, lift=3.5276782346284423), OrderedStatistic(items_base=frozenset({'sausage', 'margarine'}), items_add=frozenset({'curd'}), confidence=0.17857142857142858, lift=5.301516439909298)]),\n",
       " RelationRecord(items=frozenset({'sausage', 'rolls/buns', 'curd'}), support=0.00040098910646260775, ordered_statistics=[OrderedStatistic(items_base=frozenset({'rolls/buns', 'curd'}), items_add=frozenset({'sausage'}), confidence=0.14634146341463414, lift=2.4249250465926586), OrderedStatistic(items_base=frozenset({'sausage', 'rolls/buns'}), items_add=frozenset({'curd'}), confidence=0.075, lift=2.226636904761905)]),\n",
       " RelationRecord(items=frozenset({'sausage', 'yogurt', 'curd'}), support=0.00046782062420637575, ordered_statistics=[OrderedStatistic(items_base=frozenset({'yogurt', 'curd'}), items_add=frozenset({'sausage'}), confidence=0.2058823529411765, lift=3.4115367077063388), OrderedStatistic(items_base=frozenset({'sausage', 'yogurt'}), items_add=frozenset({'curd'}), confidence=0.08139534883720931, lift=2.4165051679586567)]),\n",
       " RelationRecord(items=frozenset({'rolls/buns', 'dessert', 'soda'}), support=0.0003341575887188398, ordered_statistics=[OrderedStatistic(items_base=frozenset({'dessert', 'soda'}), items_add=frozenset({'rolls/buns'}), confidence=0.2272727272727273, lift=2.066027836076439)]),\n",
       " RelationRecord(items=frozenset({'sausage', 'dessert', 'whole milk'}), support=0.00040098910646260775, ordered_statistics=[OrderedStatistic(items_base=frozenset({'whole milk', 'dessert'}), items_add=frozenset({'sausage'}), confidence=0.16666666666666666, lift=2.7617201919527496)]),\n",
       " RelationRecord(items=frozenset({'frankfurter', 'other vegetables', 'domestic eggs'}), support=0.00040098910646260775, ordered_statistics=[OrderedStatistic(items_base=frozenset({'frankfurter', 'domestic eggs'}), items_add=frozenset({'other vegetables'}), confidence=0.2857142857142857, lift=2.339979670028931), OrderedStatistic(items_base=frozenset({'other vegetables', 'domestic eggs'}), items_add=frozenset({'frankfurter'}), confidence=0.11320754716981131, lift=2.998096510268826), OrderedStatistic(items_base=frozenset({'frankfurter', 'other vegetables'}), items_add=frozenset({'domestic eggs'}), confidence=0.07792207792207792, lift=2.100807300807301)]),\n",
       " RelationRecord(items=frozenset({'frankfurter', 'other vegetables', 'root vegetables'}), support=0.00040098910646260775, ordered_statistics=[OrderedStatistic(items_base=frozenset({'other vegetables', 'root vegetables'}), items_add=frozenset({'frankfurter'}), confidence=0.07594936708860758, lift=2.011381203091744)]),\n",
       " RelationRecord(items=frozenset({'sausage', 'frankfurter', 'other vegetables'}), support=0.00040098910646260775, ordered_statistics=[OrderedStatistic(items_base=frozenset({'sausage', 'frankfurter'}), items_add=frozenset({'other vegetables'}), confidence=0.2727272727272727, lift=2.2336169577548888)]),\n",
       " RelationRecord(items=frozenset({'sausage', 'frankfurter', 'soda'}), support=0.0003341575887188398, ordered_statistics=[OrderedStatistic(items_base=frozenset({'sausage', 'frankfurter'}), items_add=frozenset({'soda'}), confidence=0.2272727272727273, lift=2.340455483951699)]),\n",
       " RelationRecord(items=frozenset({'rolls/buns', 'root vegetables', 'frozen vegetables'}), support=0.0003341575887188398, ordered_statistics=[OrderedStatistic(items_base=frozenset({'rolls/buns', 'root vegetables'}), items_add=frozenset({'frozen vegetables'}), confidence=0.05813953488372093, lift=2.0762335571959816)]),\n",
       " RelationRecord(items=frozenset({'whole milk', 'grapes', 'yogurt'}), support=0.0003341575887188398, ordered_statistics=[OrderedStatistic(items_base=frozenset({'whole milk', 'grapes'}), items_add=frozenset({'yogurt'}), confidence=0.1724137931034483, lift=2.007647927009258), OrderedStatistic(items_base=frozenset({'grapes', 'yogurt'}), items_add=frozenset({'whole milk'}), confidence=0.35714285714285715, lift=2.261501722991355)]),\n",
       " RelationRecord(items=frozenset({'sausage', 'other vegetables', 'hard cheese'}), support=0.0003341575887188398, ordered_statistics=[OrderedStatistic(items_base=frozenset({'other vegetables', 'hard cheese'}), items_add=frozenset({'sausage'}), confidence=0.2, lift=3.3140642303433), OrderedStatistic(items_base=frozenset({'sausage', 'hard cheese'}), items_add=frozenset({'other vegetables'}), confidence=0.4545454545454546, lift=3.7226949295914817), OrderedStatistic(items_base=frozenset({'sausage', 'other vegetables'}), items_add=frozenset({'hard cheese'}), confidence=0.05555555555555556, lift=3.778535353535354)]),\n",
       " RelationRecord(items=frozenset({'ice cream', 'rolls/buns', 'pip fruit'}), support=0.0003341575887188398, ordered_statistics=[OrderedStatistic(items_base=frozenset({'ice cream', 'pip fruit'}), items_add=frozenset({'rolls/buns'}), confidence=0.5, lift=4.545261239368165), OrderedStatistic(items_base=frozenset({'ice cream', 'rolls/buns'}), items_add=frozenset({'pip fruit'}), confidence=0.19230769230769232, lift=3.920299727520436), OrderedStatistic(items_base=frozenset({'pip fruit', 'rolls/buns'}), items_add=frozenset({'ice cream'}), confidence=0.06756756756756757, lift=4.453804024288606)]),\n",
       " RelationRecord(items=frozenset({'margarine', 'other vegetables', 'pork'}), support=0.0003341575887188398, ordered_statistics=[OrderedStatistic(items_base=frozenset({'margarine', 'other vegetables'}), items_add=frozenset({'pork'}), confidence=0.10416666666666667, lift=2.808370870870871), OrderedStatistic(items_base=frozenset({'margarine', 'pork'}), items_add=frozenset({'other vegetables'}), confidence=0.25, lift=2.0474822112753146), OrderedStatistic(items_base=frozenset({'other vegetables', 'pork'}), items_add=frozenset({'margarine'}), confidence=0.0847457627118644, lift=2.63081088684155)]),\n",
       " RelationRecord(items=frozenset({'pip fruit', 'margarine', 'whole milk'}), support=0.00040098910646260775, ordered_statistics=[OrderedStatistic(items_base=frozenset({'whole milk', 'margarine'}), items_add=frozenset({'pip fruit'}), confidence=0.09836065573770492, lift=2.005136909813731)]),\n",
       " RelationRecord(items=frozenset({'shopping bags', 'margarine', 'root vegetables'}), support=0.0003341575887188398, ordered_statistics=[OrderedStatistic(items_base=frozenset({'margarine', 'root vegetables'}), items_add=frozenset({'shopping bags'}), confidence=0.1724137931034483, lift=3.623353351414181), OrderedStatistic(items_base=frozenset({'shopping bags', 'margarine'}), items_add=frozenset({'root vegetables'}), confidence=0.3333333333333333, lift=4.791226384886326), OrderedStatistic(items_base=frozenset({'shopping bags', 'root vegetables'}), items_add=frozenset({'margarine'}), confidence=0.1, lift=3.104356846473029)]),\n",
       " RelationRecord(items=frozenset({'sausage', 'margarine', 'yogurt'}), support=0.00040098910646260775, ordered_statistics=[OrderedStatistic(items_base=frozenset({'sausage', 'margarine'}), items_add=frozenset({'yogurt'}), confidence=0.21428571428571427, lift=2.495219566425792), OrderedStatistic(items_base=frozenset({'margarine', 'yogurt'}), items_add=frozenset({'sausage'}), confidence=0.18749999999999997, lift=3.1069352159468435), OrderedStatistic(items_base=frozenset({'sausage', 'yogurt'}), items_add=frozenset({'margarine'}), confidence=0.06976744186046512, lift=2.1658303580044387)]),\n",
       " RelationRecord(items=frozenset({'other vegetables', 'pastry', 'newspapers'}), support=0.0003341575887188398, ordered_statistics=[OrderedStatistic(items_base=frozenset({'other vegetables', 'pastry'}), items_add=frozenset({'newspapers'}), confidence=0.09090909090909091, lift=2.3372383630115587)]),\n",
       " RelationRecord(items=frozenset({'sausage', 'pastry', 'newspapers'}), support=0.0003341575887188398, ordered_statistics=[OrderedStatistic(items_base=frozenset({'pastry', 'newspapers'}), items_add=frozenset({'sausage'}), confidence=0.16666666666666666, lift=2.7617201919527496), OrderedStatistic(items_base=frozenset({'sausage', 'newspapers'}), items_add=frozenset({'pastry'}), confidence=0.1851851851851852, lift=3.580007656235047), OrderedStatistic(items_base=frozenset({'sausage', 'pastry'}), items_add=frozenset({'newspapers'}), confidence=0.10416666666666667, lift=2.678085624284078)]),\n",
       " RelationRecord(items=frozenset({'soda', 'pastry', 'newspapers'}), support=0.0003341575887188398, ordered_statistics=[OrderedStatistic(items_base=frozenset({'soda', 'newspapers'}), items_add=frozenset({'pastry'}), confidence=0.14285714285714288, lift=2.7617201919527505), OrderedStatistic(items_base=frozenset({'soda', 'pastry'}), items_add=frozenset({'newspapers'}), confidence=0.0819672131147541, lift=2.107346065010422)]),\n",
       " RelationRecord(items=frozenset({'sausage', 'soda', 'newspapers'}), support=0.00040098910646260775, ordered_statistics=[OrderedStatistic(items_base=frozenset({'sausage', 'newspapers'}), items_add=frozenset({'soda'}), confidence=0.2222222222222222, lift=2.2884453620861054), OrderedStatistic(items_base=frozenset({'soda', 'newspapers'}), items_add=frozenset({'sausage'}), confidence=0.17142857142857143, lift=2.8406264831514)]),\n",
       " RelationRecord(items=frozenset({'yogurt', 'onions', 'tropical fruit'}), support=0.0003341575887188398, ordered_statistics=[OrderedStatistic(items_base=frozenset({'onions', 'tropical fruit'}), items_add=frozenset({'yogurt'}), confidence=0.2777777777777778, lift=3.2345438824038046), OrderedStatistic(items_base=frozenset({'yogurt', 'onions'}), items_add=frozenset({'tropical fruit'}), confidence=0.26315789473684215, lift=3.8832658569500684), OrderedStatistic(items_base=frozenset({'yogurt', 'tropical fruit'}), items_add=frozenset({'onions'}), confidence=0.0641025641025641, lift=3.165566556655665)]),\n",
       " RelationRecord(items=frozenset({'whole milk', 'yogurt', 'onions'}), support=0.00046782062420637575, ordered_statistics=[OrderedStatistic(items_base=frozenset({'yogurt', 'onions'}), items_add=frozenset({'whole milk'}), confidence=0.368421052631579, lift=2.3329175668752926)]),\n",
       " RelationRecord(items=frozenset({'sausage', 'shopping bags', 'other vegetables'}), support=0.0005346521419501437, ordered_statistics=[OrderedStatistic(items_base=frozenset({'sausage', 'shopping bags'}), items_add=frozenset({'other vegetables'}), confidence=0.2758620689655173, lift=2.259290715890003)]),\n",
       " RelationRecord(items=frozenset({'sausage', 'waffles', 'other vegetables'}), support=0.0003341575887188398, ordered_statistics=[OrderedStatistic(items_base=frozenset({'sausage', 'other vegetables'}), items_add=frozenset({'waffles'}), confidence=0.05555555555555556, lift=3.001002807862014), OrderedStatistic(items_base=frozenset({'waffles', 'other vegetables'}), items_add=frozenset({'sausage'}), confidence=0.19230769230769232, lift=3.1866002214839426), OrderedStatistic(items_base=frozenset({'sausage', 'waffles'}), items_add=frozenset({'other vegetables'}), confidence=0.4166666666666667, lift=3.4124703521255246)]),\n",
       " RelationRecord(items=frozenset({'sausage', 'other vegetables', 'white bread'}), support=0.0003341575887188398, ordered_statistics=[OrderedStatistic(items_base=frozenset({'sausage', 'other vegetables'}), items_add=frozenset({'white bread'}), confidence=0.05555555555555556, lift=2.3155369854534205), OrderedStatistic(items_base=frozenset({'other vegetables', 'white bread'}), items_add=frozenset({'sausage'}), confidence=0.1282051282051282, lift=2.1244001476559613)]),\n",
       " RelationRecord(items=frozenset({'other vegetables', 'soda', 'white bread'}), support=0.00040098910646260775, ordered_statistics=[OrderedStatistic(items_base=frozenset({'soda', 'white bread'}), items_add=frozenset({'other vegetables'}), confidence=0.2608695652173913, lift=2.136503176982937)]),\n",
       " RelationRecord(items=frozenset({'soft cheese', 'other vegetables', 'yogurt'}), support=0.0003341575887188398, ordered_statistics=[OrderedStatistic(items_base=frozenset({'soft cheese', 'other vegetables'}), items_add=frozenset({'yogurt'}), confidence=0.2777777777777778, lift=3.2345438824038046), OrderedStatistic(items_base=frozenset({'soft cheese', 'yogurt'}), items_add=frozenset({'other vegetables'}), confidence=0.26315789473684215, lift=2.1552444329213842)]),\n",
       " RelationRecord(items=frozenset({'whole milk', 'sugar', 'other vegetables'}), support=0.00046782062420637575, ordered_statistics=[OrderedStatistic(items_base=frozenset({'sugar', 'other vegetables'}), items_add=frozenset({'whole milk'}), confidence=0.368421052631579, lift=2.3329175668752926)]),\n",
       " RelationRecord(items=frozenset({'sausage', 'soda', 'pastry'}), support=0.0005346521419501437, ordered_statistics=[OrderedStatistic(items_base=frozenset({'soda', 'pastry'}), items_add=frozenset({'sausage'}), confidence=0.13114754098360656, lift=2.1731568723562624)]),\n",
       " RelationRecord(items=frozenset({'sausage', 'yogurt', 'pastry'}), support=0.00046782062420637575, ordered_statistics=[OrderedStatistic(items_base=frozenset({'yogurt', 'pastry'}), items_add=frozenset({'sausage'}), confidence=0.12962962962962962, lift=2.1480045937410277)]),\n",
       " RelationRecord(items=frozenset({'sausage', 'pork', 'soda'}), support=0.00040098910646260775, ordered_statistics=[OrderedStatistic(items_base=frozenset({'sausage', 'pork'}), items_add=frozenset({'soda'}), confidence=0.2608695652173913, lift=2.686435859840211), OrderedStatistic(items_base=frozenset({'pork', 'soda'}), items_add=frozenset({'sausage'}), confidence=0.13333333333333333, lift=2.2093761535622)]),\n",
       " RelationRecord(items=frozenset({'sausage', 'pork', 'whole milk'}), support=0.0006014836596939117, ordered_statistics=[OrderedStatistic(items_base=frozenset({'sausage', 'pork'}), items_add=frozenset({'whole milk'}), confidence=0.391304347826087, lift=2.4778192791035716)]),\n",
       " RelationRecord(items=frozenset({'sausage', 'pork', 'yogurt'}), support=0.00040098910646260775, ordered_statistics=[OrderedStatistic(items_base=frozenset({'sausage', 'pork'}), items_add=frozenset({'yogurt'}), confidence=0.2608695652173913, lift=3.037658602605312), OrderedStatistic(items_base=frozenset({'pork', 'yogurt'}), items_add=frozenset({'sausage'}), confidence=0.13043478260869565, lift=2.161346237180413)]),\n",
       " RelationRecord(items=frozenset({'whole milk', 'rolls/buns', 'processed cheese'}), support=0.00040098910646260775, ordered_statistics=[OrderedStatistic(items_base=frozenset({'whole milk', 'processed cheese'}), items_add=frozenset({'rolls/buns'}), confidence=0.2727272727272727, lift=2.4792334032917265)]),\n",
       " RelationRecord(items=frozenset({'rolls/buns', 'yogurt', 'whipped/sour cream'}), support=0.0006014836596939117, ordered_statistics=[OrderedStatistic(items_base=frozenset({'rolls/buns', 'whipped/sour cream'}), items_add=frozenset({'yogurt'}), confidence=0.20454545454545456, lift=2.3818004952246197)]),\n",
       " RelationRecord(items=frozenset({'sausage', 'shopping bags', 'yogurt'}), support=0.00040098910646260775, ordered_statistics=[OrderedStatistic(items_base=frozenset({'sausage', 'shopping bags'}), items_add=frozenset({'yogurt'}), confidence=0.20689655172413793, lift=2.4091775124111097)]),\n",
       " RelationRecord(items=frozenset({'sausage', 'yogurt', 'whole milk'}), support=0.0014702933903628951, ordered_statistics=[OrderedStatistic(items_base=frozenset({'whole milk', 'yogurt'}), items_add=frozenset({'sausage'}), confidence=0.1317365269461078, lift=2.1829165589087607)]),\n",
       " RelationRecord(items=frozenset({'whole milk', 'soda', 'other vegetables', 'pastry'}), support=0.0003341575887188398, ordered_statistics=[OrderedStatistic(items_base=frozenset({'other vegetables', 'pastry'}), items_add=frozenset({'whole milk', 'soda'}), confidence=0.09090909090909091, lift=7.817659352142111), OrderedStatistic(items_base=frozenset({'soda', 'pastry'}), items_add=frozenset({'whole milk', 'other vegetables'}), confidence=0.0819672131147541, lift=5.524664008270567), OrderedStatistic(items_base=frozenset({'whole milk', 'pastry'}), items_add=frozenset({'other vegetables', 'soda'}), confidence=0.051546391752577324, lift=5.319232136509065), OrderedStatistic(items_base=frozenset({'soda', 'other vegetables', 'pastry'}), items_add=frozenset({'whole milk'}), confidence=0.8333333333333334, lift=5.276837353646496), OrderedStatistic(items_base=frozenset({'whole milk', 'other vegetables', 'pastry'}), items_add=frozenset({'soda'}), confidence=0.5, lift=5.149002064693738), OrderedStatistic(items_base=frozenset({'whole milk', 'other vegetables', 'soda'}), items_add=frozenset({'pastry'}), confidence=0.29411764705882354, lift=5.685894512843897), OrderedStatistic(items_base=frozenset({'whole milk', 'soda', 'pastry'}), items_add=frozenset({'other vegetables'}), confidence=0.35714285714285715, lift=2.924974587536164)]),\n",
       " RelationRecord(items=frozenset({'sausage', 'rolls/buns', 'yogurt', 'whole milk'}), support=0.0003341575887188398, ordered_statistics=[OrderedStatistic(items_base=frozenset({'sausage', 'rolls/buns'}), items_add=frozenset({'whole milk', 'yogurt'}), confidence=0.0625, lift=5.599925149700599), OrderedStatistic(items_base=frozenset({'sausage', 'yogurt'}), items_add=frozenset({'whole milk', 'rolls/buns'}), confidence=0.05813953488372093, lift=4.162401246244575), OrderedStatistic(items_base=frozenset({'sausage', 'rolls/buns', 'whole milk'}), items_add=frozenset({'yogurt'}), confidence=0.29411764705882354, lift=3.4248111696040286), OrderedStatistic(items_base=frozenset({'sausage', 'rolls/buns', 'yogurt'}), items_add=frozenset({'whole milk'}), confidence=0.5555555555555556, lift=3.5178915690976633), OrderedStatistic(items_base=frozenset({'whole milk', 'rolls/buns', 'yogurt'}), items_add=frozenset({'sausage'}), confidence=0.25, lift=4.142580287929125), OrderedStatistic(items_base=frozenset({'sausage', 'yogurt', 'whole milk'}), items_add=frozenset({'rolls/buns'}), confidence=0.2272727272727273, lift=2.066027836076439)])]"
      ]
     },
     "execution_count": 44,
     "metadata": {},
     "output_type": "execute_result"
    }
   ],
   "source": [
    "\n",
    "from apyori import apriori\n",
    "rules = apriori(transactions, min_support=0.00030,min_confidence = 0.05,min_lift = 2,min_length = 2)\n",
    "results = list(rules)\n",
    "results\n"
   ]
  },
  {
   "cell_type": "code",
   "execution_count": 45,
   "id": "eb36c1cc-c7af-4a08-9097-6a6a221dba3d",
   "metadata": {},
   "outputs": [],
   "source": [
    "def inspect(results):\n",
    "    lhs         = [tuple(result[2][0][0])[0] for result in results]\n",
    "    rhs         = [tuple(result[2][0][1])[0] for result in results]\n",
    "    supports    = [result[1] for result in results]\n",
    "    confidences = [result[2][0][2] for result in results]\n",
    "    lifts       = [result[2][0][3] for result in results]\n",
    "    return list(zip(lhs, rhs, supports, confidences, lifts))\n",
    "ordered_results = pd.DataFrame(inspect(results), columns = ['Left Hand Side', 'Right Hand Side', 'Support', 'Confidence', 'Lift'])\n"
   ]
  },
  {
   "cell_type": "code",
   "execution_count": 46,
   "id": "cb2ebd58-a6fd-4030-a906-c4d8a3dd0c5b",
   "metadata": {},
   "outputs": [
    {
     "data": {
      "text/html": [
       "<div>\n",
       "<style scoped>\n",
       "    .dataframe tbody tr th:only-of-type {\n",
       "        vertical-align: middle;\n",
       "    }\n",
       "\n",
       "    .dataframe tbody tr th {\n",
       "        vertical-align: top;\n",
       "    }\n",
       "\n",
       "    .dataframe thead th {\n",
       "        text-align: right;\n",
       "    }\n",
       "</style>\n",
       "<table border=\"1\" class=\"dataframe\">\n",
       "  <thead>\n",
       "    <tr style=\"text-align: right;\">\n",
       "      <th></th>\n",
       "      <th>Left Hand Side</th>\n",
       "      <th>Right Hand Side</th>\n",
       "      <th>Support</th>\n",
       "      <th>Confidence</th>\n",
       "      <th>Lift</th>\n",
       "    </tr>\n",
       "  </thead>\n",
       "  <tbody>\n",
       "    <tr>\n",
       "      <th>0</th>\n",
       "      <td>artif. sweetener</td>\n",
       "      <td>soda</td>\n",
       "      <td>0.000468</td>\n",
       "      <td>0.241379</td>\n",
       "      <td>2.485725</td>\n",
       "    </tr>\n",
       "    <tr>\n",
       "      <th>1</th>\n",
       "      <td>condensed milk</td>\n",
       "      <td>berries</td>\n",
       "      <td>0.000334</td>\n",
       "      <td>0.051020</td>\n",
       "      <td>2.341774</td>\n",
       "    </tr>\n",
       "    <tr>\n",
       "      <th>2</th>\n",
       "      <td>brandy</td>\n",
       "      <td>whole milk</td>\n",
       "      <td>0.000869</td>\n",
       "      <td>0.342105</td>\n",
       "      <td>2.166281</td>\n",
       "    </tr>\n",
       "    <tr>\n",
       "      <th>3</th>\n",
       "      <td>sweet spreads</td>\n",
       "      <td>butter</td>\n",
       "      <td>0.000334</td>\n",
       "      <td>0.073529</td>\n",
       "      <td>2.087705</td>\n",
       "    </tr>\n",
       "    <tr>\n",
       "      <th>4</th>\n",
       "      <td>liver loaf</td>\n",
       "      <td>canned beer</td>\n",
       "      <td>0.000401</td>\n",
       "      <td>0.120000</td>\n",
       "      <td>2.557778</td>\n",
       "    </tr>\n",
       "    <tr>\n",
       "      <th>...</th>\n",
       "      <td>...</td>\n",
       "      <td>...</td>\n",
       "      <td>...</td>\n",
       "      <td>...</td>\n",
       "      <td>...</td>\n",
       "    </tr>\n",
       "    <tr>\n",
       "      <th>99</th>\n",
       "      <td>rolls/buns</td>\n",
       "      <td>yogurt</td>\n",
       "      <td>0.000601</td>\n",
       "      <td>0.204545</td>\n",
       "      <td>2.381800</td>\n",
       "    </tr>\n",
       "    <tr>\n",
       "      <th>100</th>\n",
       "      <td>sausage</td>\n",
       "      <td>yogurt</td>\n",
       "      <td>0.000401</td>\n",
       "      <td>0.206897</td>\n",
       "      <td>2.409178</td>\n",
       "    </tr>\n",
       "    <tr>\n",
       "      <th>101</th>\n",
       "      <td>whole milk</td>\n",
       "      <td>sausage</td>\n",
       "      <td>0.001470</td>\n",
       "      <td>0.131737</td>\n",
       "      <td>2.182917</td>\n",
       "    </tr>\n",
       "    <tr>\n",
       "      <th>102</th>\n",
       "      <td>other vegetables</td>\n",
       "      <td>whole milk</td>\n",
       "      <td>0.000334</td>\n",
       "      <td>0.090909</td>\n",
       "      <td>7.817659</td>\n",
       "    </tr>\n",
       "    <tr>\n",
       "      <th>103</th>\n",
       "      <td>sausage</td>\n",
       "      <td>whole milk</td>\n",
       "      <td>0.000334</td>\n",
       "      <td>0.062500</td>\n",
       "      <td>5.599925</td>\n",
       "    </tr>\n",
       "  </tbody>\n",
       "</table>\n",
       "<p>104 rows × 5 columns</p>\n",
       "</div>"
      ],
      "text/plain": [
       "       Left Hand Side Right Hand Side   Support  Confidence      Lift\n",
       "0    artif. sweetener            soda  0.000468    0.241379  2.485725\n",
       "1      condensed milk         berries  0.000334    0.051020  2.341774\n",
       "2              brandy      whole milk  0.000869    0.342105  2.166281\n",
       "3       sweet spreads          butter  0.000334    0.073529  2.087705\n",
       "4          liver loaf     canned beer  0.000401    0.120000  2.557778\n",
       "..                ...             ...       ...         ...       ...\n",
       "99         rolls/buns          yogurt  0.000601    0.204545  2.381800\n",
       "100           sausage          yogurt  0.000401    0.206897  2.409178\n",
       "101        whole milk         sausage  0.001470    0.131737  2.182917\n",
       "102  other vegetables      whole milk  0.000334    0.090909  7.817659\n",
       "103           sausage      whole milk  0.000334    0.062500  5.599925\n",
       "\n",
       "[104 rows x 5 columns]"
      ]
     },
     "execution_count": 46,
     "metadata": {},
     "output_type": "execute_result"
    }
   ],
   "source": [
    "ordered_results"
   ]
  },
  {
   "cell_type": "code",
   "execution_count": null,
   "id": "4aaafe06-cd6f-428b-a72e-53999b1ca729",
   "metadata": {},
   "outputs": [],
   "source": []
  }
 ],
 "metadata": {
  "kernelspec": {
   "display_name": "Python 3 (ipykernel)",
   "language": "python",
   "name": "python3"
  },
  "language_info": {
   "codemirror_mode": {
    "name": "ipython",
    "version": 3
   },
   "file_extension": ".py",
   "mimetype": "text/x-python",
   "name": "python",
   "nbconvert_exporter": "python",
   "pygments_lexer": "ipython3",
   "version": "3.11.3"
  }
 },
 "nbformat": 4,
 "nbformat_minor": 5
}
